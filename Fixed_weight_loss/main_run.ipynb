{
 "cells": [
  {
   "cell_type": "code",
   "execution_count": null,
   "metadata": {},
   "outputs": [],
   "source": [
    "\n",
    "\n",
    "import numpy as np\n",
    "\n",
    "#import import_ipynb\n",
    "import Fixed_weight_loss_moreFC_run as FWL_class\n",
    "\n",
    "\n",
    "alpha = np.arange(0.0, 1.1, 0.1)\n",
    "for a in alpha:\n",
    "    print(\"#############################################################################\\n {}\\n#############################################################################\\n\".format(a))\n",
    "    model_Fixed_weight =  FWL_class.Fixed_weight_loss_MFC(dataset=\"mnist\", batch_size = 128, n_epochs = 100, bool_alpha= True, alpha = a)\n",
    "    model_Fixed_weight.procedure_train()\n",
    "    del model_Fixed_weight\n",
    "\n"
   ]
  }
 ],
 "metadata": {
  "kernelspec": {
   "display_name": "Python 3",
   "language": "python",
   "name": "python3"
  },
  "language_info": {
   "codemirror_mode": {
    "name": "ipython",
    "version": 3
   },
   "file_extension": ".py",
   "mimetype": "text/x-python",
   "name": "python",
   "nbconvert_exporter": "python",
   "pygments_lexer": "ipython3",
   "version": "3.6.7"
  }
 },
 "nbformat": 4,
 "nbformat_minor": 2
}
